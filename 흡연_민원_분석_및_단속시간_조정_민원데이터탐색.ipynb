{
  "cells": [
    {
      "cell_type": "markdown",
      "id": "c55741a9",
      "metadata": {
        "id": "c55741a9"
      },
      "source": [
        "# *개인 데이터분석*   <흡연 민원 분석 및 단속시간 조정>\n"
      ]
    },
    {
      "cell_type": "markdown",
      "id": "7663183e",
      "metadata": {
        "id": "7663183e"
      },
      "source": [
        "## 금연구역 데이터"
      ]
    },
    {
      "cell_type": "code",
      "execution_count": null,
      "id": "2c9fc8ef",
      "metadata": {
        "id": "2c9fc8ef"
      },
      "outputs": [],
      "source": [
        "import pandas as pd\n",
        "import numpy as np\n",
        "\n",
        "import platform\n",
        "import matplotlib.pyplot as plt\n",
        "\n",
        "%matplotlib inline\n",
        "\n",
        "path = \"c:/Windows/Fonts/malgun.ttf\"\n",
        "from matplotlib import font_manager, rc\n",
        "if platform.system() == 'Darwin':\n",
        "    rc('font', family='AppleGothic')\n",
        "elif platform.system() == 'Windows':\n",
        "    font_name = font_manager.FontProperties(fname=path).get_name()\n",
        "    rc('font', family=font_name)\n",
        "else:\n",
        "    print('Unknown system... sorry~~~~')    \n",
        "\n",
        "plt.rcParams['axes.unicode_minus'] = False"
      ]
    },
    {
      "cell_type": "code",
      "execution_count": null,
      "id": "ae737f87",
      "metadata": {
        "id": "ae737f87"
      },
      "outputs": [],
      "source": [
        "data = pd.read_csv('D:/개인인천시청/데이터/전국_금연구역.csv',encoding = 'euc-kr')  #금연구역"
      ]
    },
    {
      "cell_type": "code",
      "execution_count": null,
      "id": "171b5cdf",
      "metadata": {
        "id": "171b5cdf",
        "outputId": "8de9a2eb-9775-43ba-ed82-92649db3f363"
      },
      "outputs": [
        {
          "data": {
            "text/html": [
              "<div>\n",
              "<style scoped>\n",
              "    .dataframe tbody tr th:only-of-type {\n",
              "        vertical-align: middle;\n",
              "    }\n",
              "\n",
              "    .dataframe tbody tr th {\n",
              "        vertical-align: top;\n",
              "    }\n",
              "\n",
              "    .dataframe thead th {\n",
              "        text-align: right;\n",
              "    }\n",
              "</style>\n",
              "<table border=\"1\" class=\"dataframe\">\n",
              "  <thead>\n",
              "    <tr style=\"text-align: right;\">\n",
              "      <th></th>\n",
              "      <th>금연구역명</th>\n",
              "      <th>금연구역범위상세</th>\n",
              "      <th>시도명</th>\n",
              "      <th>시군구명</th>\n",
              "      <th>금연구역구분</th>\n",
              "      <th>금연구역지정근거명</th>\n",
              "      <th>금연구역면적</th>\n",
              "      <th>위반과태료</th>\n",
              "      <th>위반신고전화번호</th>\n",
              "      <th>소재지도로명주소</th>\n",
              "      <th>소재지지번주소</th>\n",
              "      <th>관리기관명</th>\n",
              "      <th>위도</th>\n",
              "      <th>경도</th>\n",
              "      <th>데이터기준일자</th>\n",
              "      <th>제공기관코드</th>\n",
              "      <th>제공기관명</th>\n",
              "    </tr>\n",
              "  </thead>\n",
              "  <tbody>\n",
              "    <tr>\n",
              "      <th>0</th>\n",
              "      <td>어미향</td>\n",
              "      <td>건물 내 금연</td>\n",
              "      <td>전라남도</td>\n",
              "      <td>목포시</td>\n",
              "      <td>일반음식점</td>\n",
              "      <td>국민건강증진법</td>\n",
              "      <td>NaN</td>\n",
              "      <td>100000.0</td>\n",
              "      <td>061-277-4000</td>\n",
              "      <td>전라남도 목포시 동명로 19, 1층 (산정동)</td>\n",
              "      <td>NaN</td>\n",
              "      <td>전라남도 목포시</td>\n",
              "      <td>34.789031</td>\n",
              "      <td>126.395593</td>\n",
              "      <td>2020-10-08</td>\n",
              "      <td>4800000</td>\n",
              "      <td>전라남도 목포시</td>\n",
              "    </tr>\n",
              "    <tr>\n",
              "      <th>1</th>\n",
              "      <td>지맘대로</td>\n",
              "      <td>건물 내 금연</td>\n",
              "      <td>전라남도</td>\n",
              "      <td>목포시</td>\n",
              "      <td>일반음식점</td>\n",
              "      <td>국민건강증진법</td>\n",
              "      <td>NaN</td>\n",
              "      <td>100000.0</td>\n",
              "      <td>061-277-4000</td>\n",
              "      <td>전라남도 목포시 동명로 23, 1층 (산정동)</td>\n",
              "      <td>NaN</td>\n",
              "      <td>전라남도 목포시</td>\n",
              "      <td>34.789407</td>\n",
              "      <td>126.395590</td>\n",
              "      <td>2020-10-08</td>\n",
              "      <td>4800000</td>\n",
              "      <td>전라남도 목포시</td>\n",
              "    </tr>\n",
              "    <tr>\n",
              "      <th>2</th>\n",
              "      <td>미담</td>\n",
              "      <td>건물 내 금연</td>\n",
              "      <td>전라남도</td>\n",
              "      <td>목포시</td>\n",
              "      <td>일반음식점</td>\n",
              "      <td>국민건강증진법</td>\n",
              "      <td>NaN</td>\n",
              "      <td>100000.0</td>\n",
              "      <td>061-277-4000</td>\n",
              "      <td>전라남도 목포시 동명로 30, 1층 (산정동)</td>\n",
              "      <td>NaN</td>\n",
              "      <td>전라남도 목포시</td>\n",
              "      <td>34.790081</td>\n",
              "      <td>126.395911</td>\n",
              "      <td>2020-10-08</td>\n",
              "      <td>4800000</td>\n",
              "      <td>전라남도 목포시</td>\n",
              "    </tr>\n",
              "    <tr>\n",
              "      <th>3</th>\n",
              "      <td>지니빠</td>\n",
              "      <td>건물 내 금연</td>\n",
              "      <td>전라남도</td>\n",
              "      <td>목포시</td>\n",
              "      <td>일반음식점</td>\n",
              "      <td>국민건강증진법</td>\n",
              "      <td>NaN</td>\n",
              "      <td>100000.0</td>\n",
              "      <td>061-277-4000</td>\n",
              "      <td>전라남도 목포시 동명로 33 (산정동,1동)</td>\n",
              "      <td>NaN</td>\n",
              "      <td>전라남도 목포시</td>\n",
              "      <td>34.790210</td>\n",
              "      <td>126.395417</td>\n",
              "      <td>2020-10-08</td>\n",
              "      <td>4800000</td>\n",
              "      <td>전라남도 목포시</td>\n",
              "    </tr>\n",
              "    <tr>\n",
              "      <th>4</th>\n",
              "      <td>1004의쉼터</td>\n",
              "      <td>건물 내 금연</td>\n",
              "      <td>전라남도</td>\n",
              "      <td>목포시</td>\n",
              "      <td>일반음식점</td>\n",
              "      <td>국민건강증진법</td>\n",
              "      <td>NaN</td>\n",
              "      <td>100000.0</td>\n",
              "      <td>061-277-4000</td>\n",
              "      <td>전라남도 목포시 동명로 34 (산정동)</td>\n",
              "      <td>NaN</td>\n",
              "      <td>전라남도 목포시</td>\n",
              "      <td>34.790401</td>\n",
              "      <td>126.395916</td>\n",
              "      <td>2020-10-08</td>\n",
              "      <td>4800000</td>\n",
              "      <td>전라남도 목포시</td>\n",
              "    </tr>\n",
              "  </tbody>\n",
              "</table>\n",
              "</div>"
            ],
            "text/plain": [
              "     금연구역명 금연구역범위상세   시도명 시군구명 금연구역구분 금연구역지정근거명  금연구역면적     위반과태료  \\\n",
              "0      어미향  건물 내 금연  전라남도  목포시  일반음식점   국민건강증진법     NaN  100000.0   \n",
              "1     지맘대로  건물 내 금연  전라남도  목포시  일반음식점   국민건강증진법     NaN  100000.0   \n",
              "2       미담  건물 내 금연  전라남도  목포시  일반음식점   국민건강증진법     NaN  100000.0   \n",
              "3      지니빠  건물 내 금연  전라남도  목포시  일반음식점   국민건강증진법     NaN  100000.0   \n",
              "4  1004의쉼터  건물 내 금연  전라남도  목포시  일반음식점   국민건강증진법     NaN  100000.0   \n",
              "\n",
              "       위반신고전화번호                   소재지도로명주소 소재지지번주소     관리기관명         위도  \\\n",
              "0  061-277-4000  전라남도 목포시 동명로 19, 1층 (산정동)     NaN  전라남도 목포시  34.789031   \n",
              "1  061-277-4000  전라남도 목포시 동명로 23, 1층 (산정동)     NaN  전라남도 목포시  34.789407   \n",
              "2  061-277-4000  전라남도 목포시 동명로 30, 1층 (산정동)     NaN  전라남도 목포시  34.790081   \n",
              "3  061-277-4000   전라남도 목포시 동명로 33 (산정동,1동)     NaN  전라남도 목포시  34.790210   \n",
              "4  061-277-4000      전라남도 목포시 동명로 34 (산정동)     NaN  전라남도 목포시  34.790401   \n",
              "\n",
              "           경도     데이터기준일자   제공기관코드     제공기관명  \n",
              "0  126.395593  2020-10-08  4800000  전라남도 목포시  \n",
              "1  126.395590  2020-10-08  4800000  전라남도 목포시  \n",
              "2  126.395911  2020-10-08  4800000  전라남도 목포시  \n",
              "3  126.395417  2020-10-08  4800000  전라남도 목포시  \n",
              "4  126.395916  2020-10-08  4800000  전라남도 목포시  "
            ]
          },
          "execution_count": 238,
          "metadata": {},
          "output_type": "execute_result"
        }
      ],
      "source": [
        "data.head()"
      ]
    },
    {
      "cell_type": "code",
      "execution_count": null,
      "id": "6daecc3d",
      "metadata": {
        "id": "6daecc3d"
      },
      "outputs": [],
      "source": [
        "data_r = data.replace('일반음식점', '음식점')"
      ]
    },
    {
      "cell_type": "code",
      "execution_count": null,
      "id": "ac0277e3",
      "metadata": {
        "id": "ac0277e3",
        "outputId": "0a26516e-db41-4a6f-d420-3dc89391cdbc"
      },
      "outputs": [
        {
          "data": {
            "text/plain": [
              "음식점                 10110\n",
              "버스정류소                4431\n",
              "어린이집                 2427\n",
              "버스정류장                1558\n",
              "의료기관                 1490\n",
              "                    ...  \n",
              "일품중화요리                  1\n",
              "문래주민센터                  1\n",
              "유원아파트                   1\n",
              "부안여성농업인센터 알곡어린이집        1\n",
              "코스트코                    1\n",
              "Name: 금연구역구분, Length: 583, dtype: int64"
            ]
          },
          "execution_count": 240,
          "metadata": {},
          "output_type": "execute_result"
        }
      ],
      "source": [
        "data_r['금연구역구분'].value_counts()"
      ]
    },
    {
      "cell_type": "markdown",
      "id": "252fbf58",
      "metadata": {
        "id": "252fbf58"
      },
      "source": [
        "#### 해석 : 음식점(일반음식점 + 음식점) 이 10110, 버스정류소가 4431, 어린이집 2427, 버스정류장 1558\n",
        "이 장소들 주변으로 금연구역 재설치 필요"
      ]
    },
    {
      "cell_type": "code",
      "execution_count": null,
      "id": "1fea0d56",
      "metadata": {
        "id": "1fea0d56",
        "outputId": "099d7a9d-0cba-4f92-fa48-2dfc6b940c32"
      },
      "outputs": [
        {
          "data": {
            "text/html": [
              "<div>\n",
              "<style scoped>\n",
              "    .dataframe tbody tr th:only-of-type {\n",
              "        vertical-align: middle;\n",
              "    }\n",
              "\n",
              "    .dataframe tbody tr th {\n",
              "        vertical-align: top;\n",
              "    }\n",
              "\n",
              "    .dataframe thead th {\n",
              "        text-align: right;\n",
              "    }\n",
              "</style>\n",
              "<table border=\"1\" class=\"dataframe\">\n",
              "  <thead>\n",
              "    <tr style=\"text-align: right;\">\n",
              "      <th></th>\n",
              "      <th>금연구역명</th>\n",
              "      <th>금연구역범위상세</th>\n",
              "      <th>시도명</th>\n",
              "      <th>시군구명</th>\n",
              "      <th>금연구역구분</th>\n",
              "      <th>금연구역지정근거명</th>\n",
              "      <th>금연구역면적</th>\n",
              "      <th>위반과태료</th>\n",
              "      <th>위반신고전화번호</th>\n",
              "      <th>소재지도로명주소</th>\n",
              "      <th>소재지지번주소</th>\n",
              "      <th>관리기관명</th>\n",
              "      <th>위도</th>\n",
              "      <th>경도</th>\n",
              "      <th>데이터기준일자</th>\n",
              "      <th>제공기관코드</th>\n",
              "      <th>제공기관명</th>\n",
              "    </tr>\n",
              "  </thead>\n",
              "  <tbody>\n",
              "    <tr>\n",
              "      <th>601</th>\n",
              "      <td>삼산경찰서(40584)</td>\n",
              "      <td>정류소 표지판으로부터 5m이내</td>\n",
              "      <td>인천광역시</td>\n",
              "      <td>부평구</td>\n",
              "      <td>버스정류소</td>\n",
              "      <td>국민건강증진법 제9조 7항, 인천광역시부평구 간접흡연 피해방지에 관한 조례 제10조</td>\n",
              "      <td>20.0</td>\n",
              "      <td>50000.0</td>\n",
              "      <td>032-509-5082</td>\n",
              "      <td>인천광역시 부평구 굴포로 110(삼산동)</td>\n",
              "      <td>인천광역시 부평구 삼산동 441-2</td>\n",
              "      <td>인천광역시 부평구</td>\n",
              "      <td>37.510989</td>\n",
              "      <td>126.733319</td>\n",
              "      <td>2020-10-26</td>\n",
              "      <td>3540000</td>\n",
              "      <td>인천광역시 부평구</td>\n",
              "    </tr>\n",
              "    <tr>\n",
              "      <th>602</th>\n",
              "      <td>부평역사박물관(40610)</td>\n",
              "      <td>정류소 표지판으로부터 5m이내</td>\n",
              "      <td>인천광역시</td>\n",
              "      <td>부평구</td>\n",
              "      <td>버스정류소</td>\n",
              "      <td>국민건강증진법 제9조 7항, 인천광역시부평구 간접흡연 피해방지에 관한 조례 제10조</td>\n",
              "      <td>20.0</td>\n",
              "      <td>50000.0</td>\n",
              "      <td>032-509-5082</td>\n",
              "      <td>인천광역시 부평구 굴포로 158(삼산동)</td>\n",
              "      <td>NaN</td>\n",
              "      <td>인천광역시 부평구</td>\n",
              "      <td>37.511513</td>\n",
              "      <td>126.738619</td>\n",
              "      <td>2020-10-26</td>\n",
              "      <td>3540000</td>\n",
              "      <td>인천광역시 부평구</td>\n",
              "    </tr>\n",
              "  </tbody>\n",
              "</table>\n",
              "</div>"
            ],
            "text/plain": [
              "              금연구역명          금연구역범위상세    시도명 시군구명 금연구역구분  \\\n",
              "601    삼산경찰서(40584)  정류소 표지판으로부터 5m이내  인천광역시  부평구  버스정류소   \n",
              "602  부평역사박물관(40610)  정류소 표지판으로부터 5m이내  인천광역시  부평구  버스정류소   \n",
              "\n",
              "                                          금연구역지정근거명  금연구역면적    위반과태료  \\\n",
              "601  국민건강증진법 제9조 7항, 인천광역시부평구 간접흡연 피해방지에 관한 조례 제10조    20.0  50000.0   \n",
              "602  국민건강증진법 제9조 7항, 인천광역시부평구 간접흡연 피해방지에 관한 조례 제10조    20.0  50000.0   \n",
              "\n",
              "         위반신고전화번호                소재지도로명주소              소재지지번주소      관리기관명  \\\n",
              "601  032-509-5082  인천광역시 부평구 굴포로 110(삼산동)  인천광역시 부평구 삼산동 441-2  인천광역시 부평구   \n",
              "602  032-509-5082  인천광역시 부평구 굴포로 158(삼산동)                  NaN  인천광역시 부평구   \n",
              "\n",
              "            위도          경도     데이터기준일자   제공기관코드      제공기관명  \n",
              "601  37.510989  126.733319  2020-10-26  3540000  인천광역시 부평구  \n",
              "602  37.511513  126.738619  2020-10-26  3540000  인천광역시 부평구  "
            ]
          },
          "execution_count": 280,
          "metadata": {},
          "output_type": "execute_result"
        }
      ],
      "source": [
        "data_in = data[data['시도명']=='인천광역시']\n",
        "data_in.head(2)\n",
        "\n",
        "data_in = data_in.set_index('시군구명')"
      ]
    },
    {
      "cell_type": "code",
      "execution_count": null,
      "id": "961e9a8b",
      "metadata": {
        "id": "961e9a8b",
        "outputId": "f86d50c8-50ca-4cd4-f07e-8af966d62876"
      },
      "outputs": [
        {
          "data": {
            "image/png": "[encoded data removed]",
            "text/plain": [
              "<Figure size 432x288 with 1 Axes>"
            ]
          },
          "metadata": {
            "needs_background": "light"
          },
          "output_type": "display_data"
        }
      ],
      "source": [
        "data_in_group= data_in['금연구역면적'].groupby(data_in['제공기관명']).plot()"
      ]
    },
    {
      "cell_type": "code",
      "execution_count": null,
      "id": "6542d6dd",
      "metadata": {
        "id": "6542d6dd",
        "outputId": "81eb4fba-6cbb-4c16-b73f-696ee3990cc2"
      },
      "outputs": [
        {
          "data": {
            "text/plain": [
              "쉼터       11\n",
              "택시승강장    11\n",
              "광장        2\n",
              "거리        1\n",
              "Name: 금연구역구분, dtype: int64"
            ]
          },
          "execution_count": 242,
          "metadata": {},
          "output_type": "execute_result"
        }
      ],
      "source": [
        "data_mi = data_in[data_in['시군구명']=='미추홀구']\n",
        "data_mi['금연구역구분'].value_counts()"
      ]
    },
    {
      "cell_type": "code",
      "execution_count": null,
      "id": "9499c0bb",
      "metadata": {
        "id": "9499c0bb"
      },
      "outputs": [],
      "source": [
        "data_mi.to_csv('D:/개인인천시청/데이터/미추홀구_금연구역.csv', encoding = 'euc-kr')"
      ]
    },
    {
      "cell_type": "markdown",
      "id": "76889e5c",
      "metadata": {
        "id": "76889e5c"
      },
      "source": [
        "## 교육시설물 데이터"
      ]
    },
    {
      "cell_type": "code",
      "execution_count": null,
      "id": "14c6a1a5",
      "metadata": {
        "id": "14c6a1a5"
      },
      "outputs": [],
      "source": [
        "data_a = pd.read_csv('D:/개인인천시청/데이터/교육시설물 데이터/수정/인천광역시 미추홀구_초등학교.csv', encoding='cp949')  #초등\n",
        "data_b = pd.read_csv('D:/개인인천시청/데이터/교육시설물 데이터/수정/인천광역시 미추홀구_중학교.csv',encoding='cp949') \n",
        "data_c = pd.read_csv('D:/개인인천시청/데이터/교육시설물 데이터/수정/인천광역시 미추홀구_고등학교.csv') "
      ]
    },
    {
      "cell_type": "code",
      "execution_count": null,
      "id": "2d411e1f",
      "metadata": {
        "id": "2d411e1f",
        "outputId": "21bc4723-f36b-4397-96b1-f570680f089a"
      },
      "outputs": [
        {
          "name": "stdout",
          "output_type": "stream",
          "text": [
            "초등: 23   중: 12   고: 17\n"
          ]
        }
      ],
      "source": [
        "print('초등:', len(data_a), '  중:', len(data_b), '  고:', len(data_c))"
      ]
    },
    {
      "cell_type": "code",
      "execution_count": null,
      "id": "96ecb5f5",
      "metadata": {
        "id": "96ecb5f5"
      },
      "outputs": [],
      "source": [
        "data_a = data_a.replace('\\t', '')"
      ]
    },
    {
      "cell_type": "code",
      "execution_count": null,
      "id": "31851f58",
      "metadata": {
        "id": "31851f58",
        "outputId": "08a2cbdf-fa05-4cf3-fe4c-e24632e434bc"
      },
      "outputs": [
        {
          "name": "stdout",
          "output_type": "stream",
          "text": [
            "<class 'pandas.core.frame.DataFrame'>\n",
            "RangeIndex: 23 entries, 0 to 22\n",
            "Data columns (total 6 columns):\n",
            " #   Column  Non-Null Count  Dtype  \n",
            "---  ------  --------------  -----  \n",
            " 0   등록군구    23 non-null     object \n",
            " 1   학교명     23 non-null     object \n",
            " 2   우편번호    23 non-null     int64  \n",
            " 3   도로명주소   23 non-null     object \n",
            " 4   위도      23 non-null     float64\n",
            " 5   경도      23 non-null     float64\n",
            "dtypes: float64(2), int64(1), object(3)\n",
            "memory usage: 1.2+ KB\n"
          ]
        }
      ],
      "source": [
        "data_a.info()"
      ]
    },
    {
      "cell_type": "code",
      "execution_count": null,
      "id": "16aeb0b0",
      "metadata": {
        "id": "16aeb0b0"
      },
      "outputs": [],
      "source": [
        "data_a['구분'] = '초등학교'\n",
        "data_b['구분'] = '중학교'\n",
        "data_c['구분'] = '고등학교'"
      ]
    },
    {
      "cell_type": "code",
      "execution_count": null,
      "id": "1f78d39a",
      "metadata": {
        "id": "1f78d39a"
      },
      "outputs": [],
      "source": [
        "data_ed = pd.concat([data_a,data_b,data_c])"
      ]
    },
    {
      "cell_type": "code",
      "execution_count": null,
      "id": "0c6eb9f4",
      "metadata": {
        "id": "0c6eb9f4"
      },
      "outputs": [],
      "source": [
        "data_ed.to_csv('D:/개인인천시청/데이터/미추홀구_교육시설물총합.csv', encoding = 'euc-kr', index = False)"
      ]
    },
    {
      "cell_type": "markdown",
      "id": "e23a8a51",
      "metadata": {
        "id": "e23a8a51"
      },
      "source": [
        "## 유동인구 데이터"
      ]
    },
    {
      "cell_type": "code",
      "execution_count": null,
      "id": "2811f450",
      "metadata": {
        "id": "2811f450"
      },
      "outputs": [],
      "source": [
        "data_p1 = pd.read_csv('D:/개인인천시청/데이터/유동인구 데이터/pop_202002.csv',encoding = 'euc-kr') \n",
        "data_p2 = pd.read_csv('D:/개인인천시청/데이터/유동인구 데이터/pop_202003.csv',encoding = 'euc-kr') \n",
        "data_p3 = pd.read_csv('D:/개인인천시청/데이터/유동인구 데이터/pop_202004.csv',encoding = 'euc-kr') \n",
        "data_p4 = pd.read_csv('D:/개인인천시청/데이터/유동인구 데이터/pop_202005.csv',encoding = 'euc-kr') \n",
        "data_p5 = pd.read_csv('D:/개인인천시청/데이터/유동인구 데이터/pop_202006.csv',encoding = 'euc-kr') \n",
        "data_p6 = pd.read_csv('D:/개인인천시청/데이터/유동인구 데이터/pop_202007.csv',encoding = 'euc-kr') \n",
        "data_p7 = pd.read_csv('D:/개인인천시청/데이터/유동인구 데이터/pop_202008.csv',encoding = 'euc-kr') \n",
        "data_p8 = pd.read_csv('D:/개인인천시청/데이터/유동인구 데이터/pop_202009.csv',encoding = 'euc-kr') \n",
        "data_p9 = pd.read_csv('D:/개인인천시청/데이터/유동인구 데이터/pop_202010.csv',encoding = 'euc-kr') \n",
        "data_p10 = pd.read_csv('D:/개인인천시청/데이터/유동인구 데이터/pop_202011.csv',encoding = 'euc-kr') \n",
        "data_p11 = pd.read_csv('D:/개인인천시청/데이터/유동인구 데이터/pop_202012.csv',encoding = 'euc-kr') \n",
        "data_p12 = pd.read_csv('D:/개인인천시청/데이터/유동인구 데이터/pop_202101.csv',encoding = 'euc-kr') \n",
        "data_p13 = pd.read_csv('D:/개인인천시청/데이터/유동인구 데이터/pop_202102.csv',encoding = 'euc-kr') \n",
        "data_p14 = pd.read_csv('D:/개인인천시청/데이터/유동인구 데이터/pop_202103.csv',encoding = 'euc-kr') \n",
        "data_p15 = pd.read_csv('D:/개인인천시청/데이터/유동인구 데이터/pop_202104.csv',encoding = 'euc-kr') \n",
        "data_p16 = pd.read_csv('D:/개인인천시청/데이터/유동인구 데이터/pop_202105.csv',encoding = 'euc-kr') \n",
        "data_p17 = pd.read_csv('D:/개인인천시청/데이터/유동인구 데이터/pop_202106.csv',encoding = 'euc-kr') \n",
        "data_p18 = pd.read_csv('D:/개인인천시청/데이터/유동인구 데이터/pop_202107.csv',encoding = 'euc-kr') \n",
        "data_p19 = pd.read_csv('D:/개인인천시청/데이터/유동인구 데이터/pop_202108.csv',encoding = 'euc-kr') "
      ]
    },
    {
      "cell_type": "code",
      "execution_count": null,
      "id": "a487a652",
      "metadata": {
        "id": "a487a652",
        "outputId": "03709771-23dd-4378-93ac-706c467c7a2d"
      },
      "outputs": [
        {
          "data": {
            "text/plain": [
              "\"\\nfor i in range(1,20):\\n    pf'{i}'= data_pf'{i}'[data_pf'{i}'['GU_NAME']=='미추홀구']\\n\""
            ]
          },
          "execution_count": 252,
          "metadata": {},
          "output_type": "execute_result"
        }
      ],
      "source": [
        "'''\n",
        "for i in range(1,20):\n",
        "    pf'{i}'= data_pf'{i}'[data_pf'{i}'['GU_NAME']=='미추홀구']\n",
        "'''"
      ]
    },
    {
      "cell_type": "code",
      "execution_count": null,
      "id": "a55d3ae4",
      "metadata": {
        "id": "a55d3ae4"
      },
      "outputs": [],
      "source": [
        "p1= data_p1[data_p1['GU_NAME']=='미추홀구']\n",
        "p2= data_p2[data_p2['GU_NAME']=='미추홀구']\n",
        "p3= data_p3[data_p3['GU_NAME']=='미추홀구']\n",
        "p4= data_p4[data_p4['GU_NAME']=='미추홀구']\n",
        "p5= data_p5[data_p5['GU_NAME']=='미추홀구']\n",
        "p6= data_p6[data_p6['GU_NAME']=='미추홀구']\n",
        "p7= data_p7[data_p7['GU_NAME']=='미추홀구']\n",
        "p8= data_p8[data_p8['GU_NAME']=='미추홀구']\n",
        "p9= data_p9[data_p9['GU_NAME']=='미추홀구']\n",
        "p10= data_p10[data_p10['GU_NAME']=='미추홀구']\n",
        "p11= data_p11[data_p11['GU_NAME']=='미추홀구']\n",
        "p12= data_p12[data_p12['GU_NAME']=='미추홀구']\n",
        "p13= data_p13[data_p13['GU_NAME']=='미추홀구']\n",
        "p14= data_p14[data_p14['GU_NAME']=='미추홀구']\n",
        "p15= data_p15[data_p15['GU_NAME']=='미추홀구']\n",
        "p16= data_p16[data_p16['GU_NAME']=='미추홀구']\n",
        "p17= data_p17[data_p17['GU_NAME']=='미추홀구']\n",
        "p18= data_p18[data_p18['GU_NAME']=='미추홀구']\n",
        "p19= data_p19[data_p19['GU_NAME']=='미추홀구']"
      ]
    },
    {
      "cell_type": "code",
      "execution_count": null,
      "id": "22e25680",
      "metadata": {
        "id": "22e25680",
        "outputId": "7c7edb10-fdac-4b98-82f4-da77f90b8931"
      },
      "outputs": [
        {
          "data": {
            "text/html": [
              "<div>\n",
              "<style scoped>\n",
              "    .dataframe tbody tr th:only-of-type {\n",
              "        vertical-align: middle;\n",
              "    }\n",
              "\n",
              "    .dataframe tbody tr th {\n",
              "        vertical-align: top;\n",
              "    }\n",
              "\n",
              "    .dataframe thead th {\n",
              "        text-align: right;\n",
              "    }\n",
              "</style>\n",
              "<table border=\"1\" class=\"dataframe\">\n",
              "  <thead>\n",
              "    <tr style=\"text-align: right;\">\n",
              "      <th></th>\n",
              "      <th>Unnamed: 0</th>\n",
              "      <th>TD_YMD</th>\n",
              "      <th>TIME</th>\n",
              "      <th>AGE</th>\n",
              "      <th>HCODE</th>\n",
              "      <th>H_POP</th>\n",
              "      <th>W_POP</th>\n",
              "      <th>V_POP</th>\n",
              "      <th>DO_NAME</th>\n",
              "      <th>GU_NAME</th>\n",
              "      <th>HDONG_NAME</th>\n",
              "      <th>GU_CODE</th>\n",
              "      <th>DO_CODE</th>\n",
              "      <th>area</th>\n",
              "      <th>length</th>\n",
              "    </tr>\n",
              "  </thead>\n",
              "  <tbody>\n",
              "    <tr>\n",
              "      <th>23</th>\n",
              "      <td>24</td>\n",
              "      <td>20200201</td>\n",
              "      <td>0</td>\n",
              "      <td>9</td>\n",
              "      <td>2817751000</td>\n",
              "      <td>686.0</td>\n",
              "      <td>0</td>\n",
              "      <td>72.0</td>\n",
              "      <td>인천광역시</td>\n",
              "      <td>미추홀구</td>\n",
              "      <td>숭의2동</td>\n",
              "      <td>28177</td>\n",
              "      <td>28</td>\n",
              "      <td>5.334553e+05</td>\n",
              "      <td>3002.367736</td>\n",
              "    </tr>\n",
              "    <tr>\n",
              "      <th>24</th>\n",
              "      <td>25</td>\n",
              "      <td>20200201</td>\n",
              "      <td>0</td>\n",
              "      <td>9</td>\n",
              "      <td>2817752000</td>\n",
              "      <td>510.0</td>\n",
              "      <td>0</td>\n",
              "      <td>119.0</td>\n",
              "      <td>인천광역시</td>\n",
              "      <td>미추홀구</td>\n",
              "      <td>숭의1.3동</td>\n",
              "      <td>28177</td>\n",
              "      <td>28</td>\n",
              "      <td>6.946117e+05</td>\n",
              "      <td>5278.986583</td>\n",
              "    </tr>\n",
              "    <tr>\n",
              "      <th>25</th>\n",
              "      <td>26</td>\n",
              "      <td>20200201</td>\n",
              "      <td>0</td>\n",
              "      <td>9</td>\n",
              "      <td>2817753000</td>\n",
              "      <td>951.0</td>\n",
              "      <td>0</td>\n",
              "      <td>101.0</td>\n",
              "      <td>인천광역시</td>\n",
              "      <td>미추홀구</td>\n",
              "      <td>숭의4동</td>\n",
              "      <td>28177</td>\n",
              "      <td>28</td>\n",
              "      <td>7.839293e+05</td>\n",
              "      <td>3790.861449</td>\n",
              "    </tr>\n",
              "    <tr>\n",
              "      <th>26</th>\n",
              "      <td>27</td>\n",
              "      <td>20200201</td>\n",
              "      <td>0</td>\n",
              "      <td>9</td>\n",
              "      <td>2817754000</td>\n",
              "      <td>966.0</td>\n",
              "      <td>0</td>\n",
              "      <td>0.0</td>\n",
              "      <td>인천광역시</td>\n",
              "      <td>미추홀구</td>\n",
              "      <td>용현1.4동</td>\n",
              "      <td>28177</td>\n",
              "      <td>28</td>\n",
              "      <td>1.268936e+06</td>\n",
              "      <td>7272.740308</td>\n",
              "    </tr>\n",
              "    <tr>\n",
              "      <th>27</th>\n",
              "      <td>28</td>\n",
              "      <td>20200201</td>\n",
              "      <td>0</td>\n",
              "      <td>9</td>\n",
              "      <td>2817755000</td>\n",
              "      <td>1114.0</td>\n",
              "      <td>8</td>\n",
              "      <td>84.0</td>\n",
              "      <td>인천광역시</td>\n",
              "      <td>미추홀구</td>\n",
              "      <td>용현2동</td>\n",
              "      <td>28177</td>\n",
              "      <td>28</td>\n",
              "      <td>6.368437e+05</td>\n",
              "      <td>3595.524127</td>\n",
              "    </tr>\n",
              "  </tbody>\n",
              "</table>\n",
              "</div>"
            ],
            "text/plain": [
              "    Unnamed: 0    TD_YMD  TIME  AGE       HCODE   H_POP  W_POP  V_POP DO_NAME  \\\n",
              "23          24  20200201     0    9  2817751000   686.0      0   72.0   인천광역시   \n",
              "24          25  20200201     0    9  2817752000   510.0      0  119.0   인천광역시   \n",
              "25          26  20200201     0    9  2817753000   951.0      0  101.0   인천광역시   \n",
              "26          27  20200201     0    9  2817754000   966.0      0    0.0   인천광역시   \n",
              "27          28  20200201     0    9  2817755000  1114.0      8   84.0   인천광역시   \n",
              "\n",
              "   GU_NAME HDONG_NAME  GU_CODE  DO_CODE          area       length  \n",
              "23    미추홀구       숭의2동    28177       28  5.334553e+05  3002.367736  \n",
              "24    미추홀구     숭의1.3동    28177       28  6.946117e+05  5278.986583  \n",
              "25    미추홀구       숭의4동    28177       28  7.839293e+05  3790.861449  \n",
              "26    미추홀구     용현1.4동    28177       28  1.268936e+06  7272.740308  \n",
              "27    미추홀구       용현2동    28177       28  6.368437e+05  3595.524127  "
            ]
          },
          "execution_count": 254,
          "metadata": {},
          "output_type": "execute_result"
        }
      ],
      "source": [
        "pc1= pd.concat([p1,p2,p3,p4,p5,p6,p7,p8,p9,p10])\n",
        "pc2= pd.concat([p11,p12,p13,p14,p15,p16,p17,p18,p19])\n",
        "pc=pd.concat([pc1,pc2])\n",
        "pc.head()"
      ]
    },
    {
      "cell_type": "code",
      "execution_count": null,
      "id": "f8c6b62a",
      "metadata": {
        "id": "f8c6b62a",
        "outputId": "4dca79cb-5540-427d-b76a-7f6539b70c3b"
      },
      "outputs": [
        {
          "data": {
            "text/plain": [
              "4078368"
            ]
          },
          "execution_count": 255,
          "metadata": {},
          "output_type": "execute_result"
        }
      ],
      "source": [
        "len(pc)"
      ]
    },
    {
      "cell_type": "markdown",
      "id": "1d6f3937",
      "metadata": {
        "id": "1d6f3937"
      },
      "source": [
        "pc_grouped_POP= pc['HDONG_NAME'].groupby([pc['H_POP'], pc['W_POP'], pc['V_POP']]) # 인구\n",
        "pc_grouped_POP= pc_grouped_POP.sum().sort_values(ascending = False)\n",
        "pc_grouped_POP= pd.DataFrame(pc_grouped_POP, columns=['H_POP', 'W_POP', 'V_POP']).reset_index()"
      ]
    },
    {
      "cell_type": "code",
      "execution_count": null,
      "id": "1ab3b74e",
      "metadata": {
        "id": "1ab3b74e",
        "outputId": "417d0241-f21a-48bd-c104-d5d11a34bc0e"
      },
      "outputs": [
        {
          "data": {
            "image/png": "[encoded data removed]",
            "text/plain": [
              "<Figure size 576x576 with 1 Axes>"
            ]
          },
          "metadata": {
            "needs_background": "light"
          },
          "output_type": "display_data"
        }
      ],
      "source": [
        "pc_grouped_HPOP= pc['H_POP'].groupby(pc['HDONG_NAME']) #주거인구\n",
        "pc_grouped_HPOP= pc_grouped_HPOP.sum().sort_values(ascending = True)\n",
        "pc_grouped_HPOP= pd.DataFrame(pc_grouped_HPOP, columns=['H_POP'])\n",
        "pc_grouped_HPOP['H_POP'].plot(kind='barh', grid = True, figsize = (8,8))\n",
        "plt.show()"
      ]
    },
    {
      "cell_type": "markdown",
      "id": "91ac315e",
      "metadata": {
        "id": "91ac315e"
      },
      "source": [
        "###### 용현 5동, 학익1동 >>>>>> 도화2.3동,주안8동, 용현1.4동\n"
      ]
    },
    {
      "cell_type": "code",
      "execution_count": null,
      "id": "cf257ba8",
      "metadata": {
        "id": "cf257ba8",
        "outputId": "b2a70cdb-2e9b-4b8e-ca8e-379582ecee1e"
      },
      "outputs": [
        {
          "data": {
            "image/png": "[encoded data removed]",
            "text/plain": [
              "<Figure size 576x576 with 1 Axes>"
            ]
          },
          "metadata": {
            "needs_background": "light"
          },
          "output_type": "display_data"
        }
      ],
      "source": [
        "pc_grouped_W_POP= pc['W_POP'].groupby(pc['HDONG_NAME']) #직장인구\n",
        "pc_grouped_W_POP= pc_grouped_W_POP.sum().sort_values(ascending = True)\n",
        "pc_grouped_W_POP= pd.DataFrame(pc_grouped_W_POP, columns=['W_POP'])\n",
        "pc_grouped_W_POP['W_POP'].plot(kind='barh', grid = True, figsize = (8,8))\n",
        "plt.show()"
      ]
    },
    {
      "cell_type": "markdown",
      "id": "62c098e3",
      "metadata": {
        "id": "62c098e3"
      },
      "source": [
        "###### 도화2.3동 >>>>>>> 주안1동 > 용현5동, 주안5동"
      ]
    },
    {
      "cell_type": "code",
      "execution_count": null,
      "id": "b8ab9859",
      "metadata": {
        "id": "b8ab9859",
        "outputId": "aff756fe-c05e-471b-d509-7df97a4a13a3"
      },
      "outputs": [
        {
          "data": {
            "image/png": "[encoded data removed]",
            "text/plain": [
              "<Figure size 576x576 with 1 Axes>"
            ]
          },
          "metadata": {
            "needs_background": "light"
          },
          "output_type": "display_data"
        }
      ],
      "source": [
        "pc_grouped_V_POP= pc['V_POP'].groupby(pc['HDONG_NAME']) #방문인구\n",
        "pc_grouped_V_POP= pc_grouped_V_POP.sum().sort_values(ascending = True)\n",
        "pc_grouped_V_POP= pd.DataFrame(pc_grouped_V_POP, columns=['V_POP'])\n",
        "pc_grouped_V_POP['V_POP'].plot(kind='barh', grid = True, figsize = (8,8))\n",
        "plt.show()"
      ]
    },
    {
      "cell_type": "markdown",
      "id": "a1fda696",
      "metadata": {
        "id": "a1fda696"
      },
      "source": [
        "######  주안1동 > 주안2.3동 >>> 용현5동 >>> 학익1동"
      ]
    },
    {
      "cell_type": "code",
      "execution_count": null,
      "id": "16c20296",
      "metadata": {
        "id": "16c20296",
        "outputId": "499d6862-9cbf-493c-8110-874eb7c39610"
      },
      "outputs": [
        {
          "data": {
            "text/html": [
              "<div>\n",
              "<style scoped>\n",
              "    .dataframe tbody tr th:only-of-type {\n",
              "        vertical-align: middle;\n",
              "    }\n",
              "\n",
              "    .dataframe tbody tr th {\n",
              "        vertical-align: top;\n",
              "    }\n",
              "\n",
              "    .dataframe thead th {\n",
              "        text-align: right;\n",
              "    }\n",
              "</style>\n",
              "<table border=\"1\" class=\"dataframe\">\n",
              "  <thead>\n",
              "    <tr style=\"text-align: right;\">\n",
              "      <th></th>\n",
              "      <th>HDONG_NAME</th>\n",
              "      <th>V_POP</th>\n",
              "    </tr>\n",
              "  </thead>\n",
              "  <tbody>\n",
              "    <tr>\n",
              "      <th>0</th>\n",
              "      <td>숭의4동</td>\n",
              "      <td>10036200.0</td>\n",
              "    </tr>\n",
              "    <tr>\n",
              "      <th>1</th>\n",
              "      <td>용현3동</td>\n",
              "      <td>11586372.0</td>\n",
              "    </tr>\n",
              "    <tr>\n",
              "      <th>2</th>\n",
              "      <td>주안3동</td>\n",
              "      <td>12407180.0</td>\n",
              "    </tr>\n",
              "    <tr>\n",
              "      <th>3</th>\n",
              "      <td>주안4동</td>\n",
              "      <td>16164833.0</td>\n",
              "    </tr>\n",
              "    <tr>\n",
              "      <th>4</th>\n",
              "      <td>주안7동</td>\n",
              "      <td>16341007.0</td>\n",
              "    </tr>\n",
              "    <tr>\n",
              "      <th>5</th>\n",
              "      <td>주안5동</td>\n",
              "      <td>17078747.0</td>\n",
              "    </tr>\n",
              "    <tr>\n",
              "      <th>6</th>\n",
              "      <td>문학동</td>\n",
              "      <td>17219135.0</td>\n",
              "    </tr>\n",
              "    <tr>\n",
              "      <th>7</th>\n",
              "      <td>주안2동</td>\n",
              "      <td>17458241.0</td>\n",
              "    </tr>\n",
              "    <tr>\n",
              "      <th>8</th>\n",
              "      <td>숭의2동</td>\n",
              "      <td>17494129.0</td>\n",
              "    </tr>\n",
              "    <tr>\n",
              "      <th>9</th>\n",
              "      <td>용현2동</td>\n",
              "      <td>17631706.0</td>\n",
              "    </tr>\n",
              "    <tr>\n",
              "      <th>10</th>\n",
              "      <td>관교동</td>\n",
              "      <td>18047657.0</td>\n",
              "    </tr>\n",
              "    <tr>\n",
              "      <th>11</th>\n",
              "      <td>주안8동</td>\n",
              "      <td>19969859.0</td>\n",
              "    </tr>\n",
              "    <tr>\n",
              "      <th>12</th>\n",
              "      <td>학익2동</td>\n",
              "      <td>20223733.0</td>\n",
              "    </tr>\n",
              "    <tr>\n",
              "      <th>13</th>\n",
              "      <td>도화1동</td>\n",
              "      <td>23370632.0</td>\n",
              "    </tr>\n",
              "    <tr>\n",
              "      <th>14</th>\n",
              "      <td>숭의1.3동</td>\n",
              "      <td>25854821.0</td>\n",
              "    </tr>\n",
              "    <tr>\n",
              "      <th>15</th>\n",
              "      <td>용현1.4동</td>\n",
              "      <td>27180305.0</td>\n",
              "    </tr>\n",
              "    <tr>\n",
              "      <th>16</th>\n",
              "      <td>주안6동</td>\n",
              "      <td>28798151.0</td>\n",
              "    </tr>\n",
              "    <tr>\n",
              "      <th>17</th>\n",
              "      <td>학익1동</td>\n",
              "      <td>31271115.0</td>\n",
              "    </tr>\n",
              "    <tr>\n",
              "      <th>18</th>\n",
              "      <td>용현5동</td>\n",
              "      <td>37041935.0</td>\n",
              "    </tr>\n",
              "    <tr>\n",
              "      <th>19</th>\n",
              "      <td>도화2.3동</td>\n",
              "      <td>44326534.0</td>\n",
              "    </tr>\n",
              "    <tr>\n",
              "      <th>20</th>\n",
              "      <td>주안1동</td>\n",
              "      <td>47219155.0</td>\n",
              "    </tr>\n",
              "  </tbody>\n",
              "</table>\n",
              "</div>"
            ],
            "text/plain": [
              "   HDONG_NAME       V_POP\n",
              "0        숭의4동  10036200.0\n",
              "1        용현3동  11586372.0\n",
              "2        주안3동  12407180.0\n",
              "3        주안4동  16164833.0\n",
              "4        주안7동  16341007.0\n",
              "5        주안5동  17078747.0\n",
              "6         문학동  17219135.0\n",
              "7        주안2동  17458241.0\n",
              "8        숭의2동  17494129.0\n",
              "9        용현2동  17631706.0\n",
              "10        관교동  18047657.0\n",
              "11       주안8동  19969859.0\n",
              "12       학익2동  20223733.0\n",
              "13       도화1동  23370632.0\n",
              "14     숭의1.3동  25854821.0\n",
              "15     용현1.4동  27180305.0\n",
              "16       주안6동  28798151.0\n",
              "17       학익1동  31271115.0\n",
              "18       용현5동  37041935.0\n",
              "19     도화2.3동  44326534.0\n",
              "20       주안1동  47219155.0"
            ]
          },
          "execution_count": 259,
          "metadata": {},
          "output_type": "execute_result"
        }
      ],
      "source": [
        "pc_grouped_HPOP.reset_index()\n",
        "pc_grouped_W_POP.reset_index()\n",
        "pc_grouped_V_POP.reset_index()"
      ]
    },
    {
      "cell_type": "code",
      "execution_count": null,
      "id": "76068919",
      "metadata": {
        "id": "76068919"
      },
      "outputs": [],
      "source": [
        "pc_concat = pd.concat([pc_grouped_HPOP,pc_grouped_W_POP,pc_grouped_V_POP])\n",
        "people_mi = pc_concat.groupby('HDONG_NAME').sum()"
      ]
    },
    {
      "cell_type": "code",
      "execution_count": null,
      "id": "5cd22db4",
      "metadata": {
        "id": "5cd22db4"
      },
      "outputs": [],
      "source": [
        "np.set_printoptions(precision=6, suppress=True)\n",
        " \n",
        "pd.options.display.float_format = '{:.5f}'.format\n",
        "pd.reset_option('display.float_format')"
      ]
    },
    {
      "cell_type": "markdown",
      "id": "cc5ffd87",
      "metadata": {
        "id": "cc5ffd87"
      },
      "source": [
        "######  월 평균 인구이동량"
      ]
    },
    {
      "cell_type": "code",
      "execution_count": null,
      "id": "7881f32e",
      "metadata": {
        "id": "7881f32e",
        "outputId": "2dd2e93d-9448-4f67-c4a7-a635238e4afa"
      },
      "outputs": [
        {
          "data": {
            "text/html": [
              "<div>\n",
              "<style scoped>\n",
              "    .dataframe tbody tr th:only-of-type {\n",
              "        vertical-align: middle;\n",
              "    }\n",
              "\n",
              "    .dataframe tbody tr th {\n",
              "        vertical-align: top;\n",
              "    }\n",
              "\n",
              "    .dataframe thead th {\n",
              "        text-align: right;\n",
              "    }\n",
              "</style>\n",
              "<table border=\"1\" class=\"dataframe\">\n",
              "  <thead>\n",
              "    <tr style=\"text-align: right;\">\n",
              "      <th></th>\n",
              "      <th>H_POP</th>\n",
              "      <th>W_POP</th>\n",
              "      <th>V_POP</th>\n",
              "    </tr>\n",
              "    <tr>\n",
              "      <th>HDONG_NAME</th>\n",
              "      <th></th>\n",
              "      <th></th>\n",
              "      <th></th>\n",
              "    </tr>\n",
              "  </thead>\n",
              "  <tbody>\n",
              "    <tr>\n",
              "      <th>관교동</th>\n",
              "      <td>1.010811e+07</td>\n",
              "      <td>4.133853e+05</td>\n",
              "      <td>1.061627e+06</td>\n",
              "    </tr>\n",
              "    <tr>\n",
              "      <th>도화1동</th>\n",
              "      <td>1.160390e+07</td>\n",
              "      <td>6.111578e+05</td>\n",
              "      <td>1.374743e+06</td>\n",
              "    </tr>\n",
              "    <tr>\n",
              "      <th>도화2.3동</th>\n",
              "      <td>1.353008e+07</td>\n",
              "      <td>1.988844e+06</td>\n",
              "      <td>2.607443e+06</td>\n",
              "    </tr>\n",
              "    <tr>\n",
              "      <th>문학동</th>\n",
              "      <td>9.079919e+06</td>\n",
              "      <td>2.883378e+05</td>\n",
              "      <td>1.012890e+06</td>\n",
              "    </tr>\n",
              "    <tr>\n",
              "      <th>숭의1.3동</th>\n",
              "      <td>5.688179e+06</td>\n",
              "      <td>5.729066e+05</td>\n",
              "      <td>1.520872e+06</td>\n",
              "    </tr>\n",
              "  </tbody>\n",
              "</table>\n",
              "</div>"
            ],
            "text/plain": [
              "                   H_POP         W_POP         V_POP\n",
              "HDONG_NAME                                          \n",
              "관교동         1.010811e+07  4.133853e+05  1.061627e+06\n",
              "도화1동        1.160390e+07  6.111578e+05  1.374743e+06\n",
              "도화2.3동      1.353008e+07  1.988844e+06  2.607443e+06\n",
              "문학동         9.079919e+06  2.883378e+05  1.012890e+06\n",
              "숭의1.3동      5.688179e+06  5.729066e+05  1.520872e+06"
            ]
          },
          "execution_count": 262,
          "metadata": {},
          "output_type": "execute_result"
        }
      ],
      "source": [
        "people_mi['H_POP'] = people_mi['H_POP'] / 17 #기간 : 202002 ~ 202108\n",
        "people_mi['W_POP'] = people_mi['W_POP'] / 17\n",
        "people_mi['V_POP'] = people_mi['V_POP'] / 17\n",
        "people_mi.head()"
      ]
    },
    {
      "cell_type": "code",
      "execution_count": null,
      "id": "7e3417a8",
      "metadata": {
        "id": "7e3417a8"
      },
      "outputs": [],
      "source": [
        "people_mi.reset_index()\n",
        "people_mi.to_csv('D:/개인인천시청/데이터/미추홀구_유동인구.csv', encoding = 'euc-kr',index=False)"
      ]
    },
    {
      "cell_type": "code",
      "execution_count": null,
      "id": "97ea3ed7",
      "metadata": {
        "id": "97ea3ed7",
        "outputId": "3c4a9c95-881c-4324-8980-13b71943bd26"
      },
      "outputs": [
        {
          "data": {
            "image/png": "[encoded data removed]",
            "text/plain": [
              "<Figure size 720x720 with 1 Axes>"
            ]
          },
          "metadata": {
            "needs_background": "light"
          },
          "output_type": "display_data"
        }
      ],
      "source": [
        "people_mi.plot(kind='bar', grid = True, figsize = (10,10))\n",
        "plt.show()"
      ]
    },
    {
      "cell_type": "markdown",
      "id": "bed7f26e",
      "metadata": {
        "id": "bed7f26e"
      },
      "source": [
        "## 금연구역 데이터"
      ]
    },
    {
      "cell_type": "code",
      "execution_count": null,
      "id": "34f0dad3",
      "metadata": {
        "id": "34f0dad3",
        "outputId": "20b94ac8-10c4-40c9-e685-077129de300b"
      },
      "outputs": [
        {
          "name": "stdout",
          "output_type": "stream",
          "text": [
            "<class 'pandas.core.frame.DataFrame'>\n",
            "RangeIndex: 25 entries, 0 to 24\n",
            "Data columns (total 18 columns):\n",
            " #   Column      Non-Null Count  Dtype  \n",
            "---  ------      --------------  -----  \n",
            " 0   Unnamed: 0  25 non-null     int64  \n",
            " 1   금연구역명       25 non-null     object \n",
            " 2   금연구역범위상세    25 non-null     object \n",
            " 3   시도명         25 non-null     object \n",
            " 4   시군구명        25 non-null     object \n",
            " 5   금연구역구분      25 non-null     object \n",
            " 6   금연구역지정근거명   25 non-null     object \n",
            " 7   금연구역면적      0 non-null      float64\n",
            " 8   위반과태료       25 non-null     float64\n",
            " 9   위반신고전화번호    25 non-null     object \n",
            " 10  소재지도로명주소    0 non-null      float64\n",
            " 11  소재지지번주소     25 non-null     object \n",
            " 12  관리기관명       25 non-null     object \n",
            " 13  위도          5 non-null      float64\n",
            " 14  경도          5 non-null      float64\n",
            " 15  데이터기준일자     25 non-null     object \n",
            " 16  제공기관코드      25 non-null     int64  \n",
            " 17  제공기관명       25 non-null     object \n",
            "dtypes: float64(5), int64(2), object(11)\n",
            "memory usage: 3.6+ KB\n"
          ]
        }
      ],
      "source": [
        "data_x = pd.read_csv('D:/개인인천시청/데이터/미추홀구_금연구역.csv',encoding = 'euc-kr') \n",
        "data_x.info()"
      ]
    },
    {
      "cell_type": "code",
      "execution_count": null,
      "id": "f3488184",
      "metadata": {
        "id": "f3488184",
        "outputId": "f63b2b04-b8e7-4a11-c5e2-72021828ceff"
      },
      "outputs": [
        {
          "data": {
            "text/plain": [
              "쉼터       11\n",
              "택시승강장    11\n",
              "광장        2\n",
              "거리        1\n",
              "Name: 금연구역구분, dtype: int64"
            ]
          },
          "execution_count": 266,
          "metadata": {},
          "output_type": "execute_result"
        }
      ],
      "source": [
        "data_x['금연구역구분'].value_counts()"
      ]
    },
    {
      "cell_type": "markdown",
      "id": "e01dd763",
      "metadata": {
        "id": "e01dd763"
      },
      "source": [
        "## 민원데이터"
      ]
    },
    {
      "cell_type": "code",
      "execution_count": null,
      "id": "6350cca0",
      "metadata": {
        "id": "6350cca0",
        "outputId": "02a1836b-b127-4483-9a83-ad084178bb3f"
      },
      "outputs": [
        {
          "data": {
            "text/html": [
              "<div>\n",
              "<style scoped>\n",
              "    .dataframe tbody tr th:only-of-type {\n",
              "        vertical-align: middle;\n",
              "    }\n",
              "\n",
              "    .dataframe tbody tr th {\n",
              "        vertical-align: top;\n",
              "    }\n",
              "\n",
              "    .dataframe thead th {\n",
              "        text-align: right;\n",
              "    }\n",
              "</style>\n",
              "<table border=\"1\" class=\"dataframe\">\n",
              "  <thead>\n",
              "    <tr style=\"text-align: right;\">\n",
              "      <th></th>\n",
              "      <th>ldadng_ymd</th>\n",
              "      <th>recv_path</th>\n",
              "      <th>minnwon_sj</th>\n",
              "      <th>minwon_cn</th>\n",
              "      <th>process_limit</th>\n",
              "      <th>dept_gubun</th>\n",
              "      <th>dept_name</th>\n",
              "      <th>ans_mod_dtime</th>\n",
              "      <th>민원내용</th>\n",
              "      <th>위치</th>\n",
              "    </tr>\n",
              "  </thead>\n",
              "  <tbody>\n",
              "    <tr>\n",
              "      <th>0</th>\n",
              "      <td>20191030</td>\n",
              "      <td>모바일접수민원</td>\n",
              "      <td>[생활불편신고]쓰레기 방치, 투기</td>\n",
              "      <td>공원내 흡연  여전히 어르신들은 흡연을 하시네요 지금시간엔 아이들이 한참 공원에서 ...</td>\n",
              "      <td>2019-11-01 18:00</td>\n",
              "      <td>주관</td>\n",
              "      <td>건설교통국 공원녹지과</td>\n",
              "      <td>2019-10-30 17:34</td>\n",
              "      <td>흡연</td>\n",
              "      <td>인천광역시 미추홀구 용현동 14</td>\n",
              "    </tr>\n",
              "    <tr>\n",
              "      <th>1</th>\n",
              "      <td>20191031</td>\n",
              "      <td>모바일접수민원</td>\n",
              "      <td>[생활불편신고]기타불편</td>\n",
              "      <td>기타불편  노숙자들 공원에서 흡연 음주 행위인천광역시 미추홀구 숭의동 50-2 부근...</td>\n",
              "      <td>2019-10-31 18:00</td>\n",
              "      <td>주관</td>\n",
              "      <td>복지환경국 복지정책과</td>\n",
              "      <td>2019-10-31 17:23</td>\n",
              "      <td>흡연, 음주</td>\n",
              "      <td>인천광역시 미추홀구 숭의동 50-2</td>\n",
              "    </tr>\n",
              "    <tr>\n",
              "      <th>2</th>\n",
              "      <td>20191031</td>\n",
              "      <td>이송이관민원 (국민신문고접수, 국민권익위원회)</td>\n",
              "      <td>[이송이관] 간석역 1번출구 흡연 단속 요청</td>\n",
              "      <td>간석역 1번출구 앞 흡연자들 단속 요청 드립니다.전에 있던 흡연 금지 현수막은 없어...</td>\n",
              "      <td>2019-10-31 18:00</td>\n",
              "      <td>주관</td>\n",
              "      <td>보건소 건강증진과</td>\n",
              "      <td>2019-10-31 17:59</td>\n",
              "      <td>흡연</td>\n",
              "      <td>간석역 1번출구</td>\n",
              "    </tr>\n",
              "    <tr>\n",
              "      <th>3</th>\n",
              "      <td>20191031</td>\n",
              "      <td>자체접수민원</td>\n",
              "      <td>주안동3동 쓰레기무단투기 그리고 쓰레기분리수거함설치민원</td>\n",
              "      <td>쓰레기무단투기로 인한 cctv 설치요망드립니다치킨박스에 치킨뼈를 담아 빌라에 무단으...</td>\n",
              "      <td>2019-11-06 18:00</td>\n",
              "      <td>주관</td>\n",
              "      <td>주안3동</td>\n",
              "      <td>2019-10-31 18:01</td>\n",
              "      <td>NaN</td>\n",
              "      <td>주안3동</td>\n",
              "    </tr>\n",
              "    <tr>\n",
              "      <th>4</th>\n",
              "      <td>20191101</td>\n",
              "      <td>모바일접수민원</td>\n",
              "      <td>[생활불편신고]기타생활불편</td>\n",
              "      <td>기타생활불편  공원에  할머니 할아버지들 계시는분들중공원에 개데리고 출입했다고 무조...</td>\n",
              "      <td>2019-11-05 18:00</td>\n",
              "      <td>주관</td>\n",
              "      <td>건설교통국 공원녹지과</td>\n",
              "      <td>2019-11-01 15:58</td>\n",
              "      <td>NaN</td>\n",
              "      <td>인천광역시 미추홀구 문학동 460</td>\n",
              "    </tr>\n",
              "  </tbody>\n",
              "</table>\n",
              "</div>"
            ],
            "text/plain": [
              "   ldadng_ymd                  recv_path                      minnwon_sj  \\\n",
              "0    20191030                    모바일접수민원              [생활불편신고]쓰레기 방치, 투기   \n",
              "1    20191031                    모바일접수민원                    [생활불편신고]기타불편   \n",
              "2    20191031  이송이관민원 (국민신문고접수, 국민권익위원회)        [이송이관] 간석역 1번출구 흡연 단속 요청   \n",
              "3    20191031                     자체접수민원  주안동3동 쓰레기무단투기 그리고 쓰레기분리수거함설치민원   \n",
              "4    20191101                    모바일접수민원                  [생활불편신고]기타생활불편   \n",
              "\n",
              "                                           minwon_cn     process_limit  \\\n",
              "0  공원내 흡연  여전히 어르신들은 흡연을 하시네요 지금시간엔 아이들이 한참 공원에서 ...  2019-11-01 18:00   \n",
              "1  기타불편  노숙자들 공원에서 흡연 음주 행위인천광역시 미추홀구 숭의동 50-2 부근...  2019-10-31 18:00   \n",
              "2  간석역 1번출구 앞 흡연자들 단속 요청 드립니다.전에 있던 흡연 금지 현수막은 없어...  2019-10-31 18:00   \n",
              "3  쓰레기무단투기로 인한 cctv 설치요망드립니다치킨박스에 치킨뼈를 담아 빌라에 무단으...  2019-11-06 18:00   \n",
              "4  기타생활불편  공원에  할머니 할아버지들 계시는분들중공원에 개데리고 출입했다고 무조...  2019-11-05 18:00   \n",
              "\n",
              "  dept_gubun    dept_name     ans_mod_dtime    민원내용                    위치  \n",
              "0         주관  건설교통국 공원녹지과  2019-10-30 17:34      흡연    인천광역시 미추홀구 용현동 14   \n",
              "1         주관  복지환경국 복지정책과  2019-10-31 17:23  흡연, 음주  인천광역시 미추홀구 숭의동 50-2   \n",
              "2         주관    보건소 건강증진과  2019-10-31 17:59      흡연              간석역 1번출구  \n",
              "3         주관         주안3동  2019-10-31 18:01     NaN                  주안3동  \n",
              "4         주관  건설교통국 공원녹지과  2019-11-01 15:58     NaN  인천광역시 미추홀구 문학동 460    "
            ]
          },
          "execution_count": 307,
          "metadata": {},
          "output_type": "execute_result"
        }
      ],
      "source": [
        "data_mw = pd.read_csv('D:/개인인천시청/데이터/민원 데이터/saeol_minwon_B.csv',encoding = 'euc-kr')\n",
        "data_mw.head()"
      ]
    },
    {
      "cell_type": "code",
      "execution_count": null,
      "id": "8aae5982",
      "metadata": {
        "id": "8aae5982"
      },
      "outputs": [],
      "source": [
        "data_mw"
      ]
    }
  ],
  "metadata": {
    "kernelspec": {
      "display_name": "Python 3",
      "language": "python",
      "name": "python3"
    },
    "language_info": {
      "codemirror_mode": {
        "name": "ipython",
        "version": 3
      },
      "file_extension": ".py",
      "mimetype": "text/x-python",
      "name": "python",
      "nbconvert_exporter": "python",
      "pygments_lexer": "ipython3",
      "version": "3.8.8"
    },
    "colab": {
      "provenance": []
    }
  },
  "nbformat": 4,
  "nbformat_minor": 5
}